#accept usr name 
first = input("Enter your first name:  ")
last = input ("Enter your last name:  ")
print(last, "", first)

#accept an integer and compute the value of n+nn+nnn
a = int(input("Input an integer : "))
n1 = int( "%s" % a )
d1 = ("%d" % a)
print("The first variable was created with %d; the second with %s")
print(d1)
print(n1)
n2 = int( "%s%s" % (a,a) )
d2 = ("%d%d" % (a,a))
print("Second variables, %d%d v. %s%s")
print(d2)
print(n2)
n3 = int( "%s%s%s" % (a,a,a) )
d3 = ( "%d%d%d" % (a,a,a) )
print("Third variables, %d%d%d v. %s%s%s")
print(d3)
print(n3)
print("%d solution")
print(d1+d2+d3)
print("%s solution")
print (n1+n2+n3)

#Where are you from?
country = input("What country are you from: ")
print("I have heard that", country, "is a beautiful country")

print("What is the output?")
x = 10
y = 50
if (x ** 2 > 100 and y < 100):
    print(x, y)
else:
    (print("There was no output"))

print("What is the output?")
a = [10, 20]
b = a
b += [30, 40]
print(a)
print(b)


print("What is the output?")
print(2%6)

print("What is the output?")
print(2 * 3 ** 4 * 4)

print("What is a text editor?")
print("A text editor is an program that allows the creation and modification of text frequently used in programming. Sublime text 3 is a text editor.")

print("What is python?")
print("Python is an 'interpretted, object-oriented... programming language with dynamic semantics.' It is often used in Back End Development.")

print("What is Jupyter Notebook?")
print("Jupyter Notebook is a web application for organizing directories, writing documents, and writing & executing code. RStudio and PyCharm are alternatives.")



