{
 "cells": [
  {
   "cell_type": "markdown",
   "metadata": {},
   "source": [
    "Import libraries:"
   ]
  },
  {
   "cell_type": "code",
   "execution_count": 9,
   "metadata": {},
   "outputs": [],
   "source": [
    "import math\n",
    "import re\n",
    "import random"
   ]
  },
  {
   "cell_type": "markdown",
   "metadata": {},
   "source": [
    "Exercise 1: Guess a number between 1 to 9 given by the user."
   ]
  },
  {
   "cell_type": "code",
   "execution_count": 15,
   "metadata": {},
   "outputs": [
    {
     "name": "stdout",
     "output_type": "stream",
     "text": [
      "Pick a number 1 through 9: 1\n",
      "You absolute buffoon--you total fool! Try again, nerd!\n",
      "Pick a number 1 through 9: 2\n",
      "You got it!\n"
     ]
    }
   ],
   "source": [
    "answer=random.randint(1,10)\n",
    "guess=0\n",
    "while guess != answer:\n",
    "    guess=int(input(\"Pick a number 1 through 9: \"))\n",
    "    if guess == answer:\n",
    "        print(\"You got it!\")\n",
    "    else:\n",
    "        print(\"You absolute buffoon! Try again, nerd!\")"
   ]
  },
  {
   "cell_type": "code",
   "execution_count": null,
   "metadata": {},
   "outputs": [],
   "source": [
    "if target not in range(1,10):\n",
    "     print(\"Invalid Entry\")\n",
    "     exit()\n",
    "else:\n",
    "    print(\"Valid Entry\")"
   ]
  },
  {
   "cell_type": "markdown",
   "metadata": {},
   "source": [
    "\n",
    "\n",
    " Exercise 2: Check the validity of password input by the user. Hint. Re which does matching operations much like Perl.\n",
    "\n",
    "Validation:\n",
    "    -At least 1 letter between [a-z] and 1 letter between [A-Z].\n",
    "    -At least 1 number between [0-9].\n",
    "    -At least 1 character from [$#@].\n",
    "    -Minimum length 6 characters.\n",
    "    -Maximum length 16 characters.\n",
    "    -Bonus: no spaces\n",
    "\n"
   ]
  },
  {
   "cell_type": "code",
   "execution_count": 42,
   "metadata": {},
   "outputs": [
    {
     "name": "stdout",
     "output_type": "stream",
     "text": [
      "Enter password: asdf #4P\n",
      "Invalid Password\n",
      "Enter password: adfa#P0 x\n",
      "Invalid Password\n",
      "Enter password: asdffP0#\n",
      "Valid Password\n"
     ]
    }
   ],
   "source": [
    "x=True\n",
    "while x:\n",
    "    pwd=input(\"Enter password: \")\n",
    "    if (len(pwd)>6 and len(pwd)<16\\\n",
    "    and re.search(\"[a-z]\",pwd)\\\n",
    "    and re.search(\"[0-9]\",pwd)\\\n",
    "    and re.search(\"[A-Z]\",pwd)\\\n",
    "    and re.search(\"[$#@]\",pwd))\\\n",
    "    and not (re.search(\"\\s\",pwd)):\n",
    "        print(\"Valid Password\")\n",
    "        x=False\n",
    "    else:\n",
    "        print(\"Invalid Password\")"
   ]
  },
  {
   "cell_type": "markdown",
   "metadata": {},
   "source": [
    "Example 3: Get input of the age of 3 people by user and determine oldest and youngest among them"
   ]
  },
  {
   "cell_type": "code",
   "execution_count": 92,
   "metadata": {},
   "outputs": [
    {
     "name": "stdout",
     "output_type": "stream",
     "text": [
      "For each person in a group of three...\n",
      "Enter person's name: Bob\n",
      "Enter person's age: 3\n",
      "Enter person's name: Bill\n",
      "Enter person's age: 4\n",
      "Enter person's name: Steve\n",
      "Enter person's age: 9\n",
      "The oldest person was Steve at 9 years old. \n",
      "The youngest person was Bob at 3 years old. \n"
     ]
    }
   ],
   "source": [
    "dict={}\n",
    "\n",
    "def add(x,y,dict):\n",
    "    \"Fx adds key:value pair to dictionary\"\n",
    "    dict[\"{}\".format(x)]=y\n",
    "\n",
    "def max(list):\n",
    "    \"Finds the maximum value in a list\"\n",
    "    maxvalue=list[0]\n",
    "    for i in range(0,len(list)):\n",
    "        if list[i]>maxvalue:\n",
    "            maxvalue=list[i]\n",
    "    return maxvalue\n",
    "\n",
    "def min(list):\n",
    "    \"Finds the minimum value in a list\"\n",
    "    minvalue=list[0]\n",
    "    for i in range(0,len(list)):\n",
    "        if list[i]<minvalue:\n",
    "            minvalue=list[i]\n",
    "    return minvalue\n",
    "\n",
    "def valueList(dict):\n",
    "    \"Creates a list of integers form dictionary values\"\n",
    "    vals=[]\n",
    "    for i in dict.values():\n",
    "        pos=0\n",
    "        vals.insert(pos,int(i))\n",
    "        ++pos\n",
    "    return vals\n",
    "\n",
    "def dictSearch(search_age,dict):\n",
    "    \"Returns corresponding key for dictionary values\"\n",
    "    for (x, y) in dict.items():\n",
    "        if y == str(search_age):\n",
    "            return x\n",
    "#Prompt user for Name:Age pairs\n",
    "print(\"For each person in a group of three...\")\n",
    "for i in range(0,3):\n",
    "    x, y = input(\"Enter person's name: \"), input(\"Enter person's age: \")\n",
    "    add(x,y,dict)\n",
    "#Create an integer list of dict.values()\n",
    "vals=valueList(dict)\n",
    "#find the oldest age\n",
    "oldest_age=max(vals)\n",
    "#find the name of the oldest person\n",
    "oldest_usr=dictSearch(oldest_age, dict)\n",
    "#output the info\n",
    "print(\"The oldest person was\", oldest_usr, \"at\", oldest_age, \"years old. \")\n",
    "#repeat for the youngest person\n",
    "youngest_age=min(vals)\n",
    "youngest_usr=dictSearch(youngest_age,dict)\n",
    "print(\"The youngest person was\", youngest_usr, \"at\", youngest_age, \"years old. \")\n"
   ]
  },
  {
   "cell_type": "markdown",
   "metadata": {},
   "source": [
    "Exercise 4: A student will not be allowed to sit in exam if his/her attendance is less than 75%.\n",
    "\n",
    "Take following input from user\n",
    "\n",
    "    Number of classes held\n",
    "    Number of classes attended.\n",
    "    And print percentage of class attended\n",
    "\n",
    "Is student is allowed to sit in exam or not?"
   ]
  },
  {
   "cell_type": "code",
   "execution_count": 101,
   "metadata": {},
   "outputs": [
    {
     "name": "stdout",
     "output_type": "stream",
     "text": [
      "How many classes are there? 20\n",
      "How many classes have you attended? 15\n",
      "75.0 %\n",
      "You may take the exam.\n"
     ]
    }
   ],
   "source": [
    "totalClasses=int(input(\"How many classes are there? \"))\n",
    "numAttended=int(input(\"How many classes have you attended? \"))\n",
    "attendance=((numAttended/totalClasses)*100)\n",
    "print(attendance,\"%\")\n",
    "if attendance>74:\n",
    "    print(\"You may take the exam.\")\n",
    "else: \n",
    "    print(\"You may not take the exam.\")"
   ]
  },
  {
   "cell_type": "markdown",
   "metadata": {},
   "source": [
    "Exercise 5: Get an integer N from the user and perform the following actions:\n",
    "\n",
    "    if N is odd, print \"weird\"\n",
    "    if N is even and in the inclusive range of 2 to 5, print \"Not Weird\"\n",
    "    if N is even and in the inclusive range of 6 to 20, print \"Weird\"\n",
    "    if N is even and greater than 20, print \"Not Weird\""
   ]
  },
  {
   "cell_type": "code",
   "execution_count": null,
   "metadata": {},
   "outputs": [],
   "source": [
    "num=int(input(\"Enter an integer: \"))\n",
    "if num%2!=0:\n",
    "    print(\"weird\")\n",
    "elif num in range(2,6) or num>20:\n",
    "    print(\"not weird\")\n",
    "elif num in range(6,21):\n",
    "    print(\"weird\")"
   ]
  }
 ],
 "metadata": {
  "kernelspec": {
   "display_name": "Python 3",
   "language": "python",
   "name": "python3"
  },
  "language_info": {
   "codemirror_mode": {
    "name": "ipython",
    "version": 3
   },
   "file_extension": ".py",
   "mimetype": "text/x-python",
   "name": "python",
   "nbconvert_exporter": "python",
   "pygments_lexer": "ipython3",
   "version": "3.8.3"
  }
 },
 "nbformat": 4,
 "nbformat_minor": 4
}
